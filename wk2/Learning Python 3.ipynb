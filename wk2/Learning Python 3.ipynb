{
 "cells": [
  {
   "cell_type": "markdown",
   "metadata": {},
   "source": [
    "# **3 Functions**\n",
    "## All the things you can do with Python...and make them reusable!"
   ]
  },
  {
   "cell_type": "markdown",
   "metadata": {},
   "source": [
    "## **3.1 Funtion basics**\n",
    "Function definitions start with **def**...**def** for definition. Remember that spaces are extremeley important in Python and that the standard indentation is 4 spaces. As you are learning and using Jupyterlab, spaces and indentation will be automatically done for you. \n",
    "This is the basic structure of a function:"
   ]
  },
  {
   "cell_type": "markdown",
   "metadata": {},
   "source": [
    "```Python\n",
    "def function_name(parameters):\n",
    "    # code starts here\n",
    "    pass # this function doesn't do anything...or consider a return statement\n",
    "    # return thing_to_return\n",
    "```"
   ]
  },
  {
   "cell_type": "markdown",
   "metadata": {},
   "source": [
    "Think of a Python function as a mathematical function of the form $y = f(x)$"
   ]
  },
  {
   "cell_type": "markdown",
   "metadata": {},
   "source": [
    "$y$ is the output. $x$ is the input. When you apply function $f$ to $x$, the output is $y$. Clear as mud?"
   ]
  },
  {
   "cell_type": "markdown",
   "metadata": {},
   "source": [
    "def defines a function that takes one or more parameters as inputs. You manipulate the inputs to produce an output, which you return with the keyword return. Let's see how it works with a real example. Once you run the next cell the function **times_two** will be available to the cells in this notebook."
   ]
  },
  {
   "cell_type": "code",
   "execution_count": 237,
   "metadata": {},
   "outputs": [],
   "source": [
    "def times_two(val):\n",
    "    return val * 2"
   ]
  },
  {
   "cell_type": "markdown",
   "metadata": {},
   "source": [
    "Which means that now we can use the function times_two whenever we want. So, let's do it!"
   ]
  },
  {
   "cell_type": "code",
   "execution_count": 238,
   "metadata": {},
   "outputs": [
    {
     "data": {
      "text/plain": [
       "20"
      ]
     },
     "execution_count": 238,
     "metadata": {},
     "output_type": "execute_result"
    }
   ],
   "source": [
    "times_two(10)"
   ]
  },
  {
   "cell_type": "markdown",
   "metadata": {},
   "source": [
    "Tada! Pretty exciting, huh?"
   ]
  },
  {
   "cell_type": "code",
   "execution_count": 239,
   "metadata": {},
   "outputs": [],
   "source": [
    "x = times_two(5)\n",
    "y = times_two(8)"
   ]
  },
  {
   "cell_type": "code",
   "execution_count": 240,
   "metadata": {},
   "outputs": [
    {
     "data": {
      "text/plain": [
       "160"
      ]
     },
     "execution_count": 240,
     "metadata": {},
     "output_type": "execute_result"
    }
   ],
   "source": [
    "x * y"
   ]
  },
  {
   "cell_type": "markdown",
   "metadata": {},
   "source": [
    "No longer do you have to write the code for **times_two**. It is available as a function and we can reuse a function. The actual name of the function and its parameters don't matter. You may pick the names, but you generally pick names that will mean something to the _user_. "
   ]
  },
  {
   "cell_type": "markdown",
   "metadata": {},
   "source": [
    "***\n",
    "## 3.1.1 An error checking tangent\n",
    "Note that we do not do any error checking on the type of value passed as a function parameter. What would happen if someone passed a _string_ to the function?"
   ]
  },
  {
   "cell_type": "code",
   "execution_count": 241,
   "metadata": {},
   "outputs": [
    {
     "data": {
      "text/plain": [
       "'55'"
      ]
     },
     "execution_count": 241,
     "metadata": {},
     "output_type": "execute_result"
    }
   ],
   "source": [
    "times_two('5')"
   ]
  },
  {
   "cell_type": "markdown",
   "metadata": {},
   "source": [
    "So it turns out you can use the * operator with strings, but it concatenates them. So '5' * '5' equals '55'. Not what we expected. We could add some checking, which I'll demonstrate, but it's not really our focus for now."
   ]
  },
  {
   "cell_type": "markdown",
   "metadata": {},
   "source": [
    "One form error checking can take is the ```try except``` statement. You ```try``` _something_ and if _something_ doesn't work...if there is an exception, then execute the ```except``` part...but don't crash with an error."
   ]
  },
  {
   "cell_type": "code",
   "execution_count": 242,
   "metadata": {},
   "outputs": [],
   "source": [
    "def times_two_b(input):\n",
    "    try:\n",
    "        val = float(input)\n",
    "        return val * 2\n",
    "    except:\n",
    "        return \"Be sure your input is a number.\""
   ]
  },
  {
   "cell_type": "code",
   "execution_count": 243,
   "metadata": {},
   "outputs": [
    {
     "data": {
      "text/plain": [
       "10.0"
      ]
     },
     "execution_count": 243,
     "metadata": {},
     "output_type": "execute_result"
    }
   ],
   "source": [
    "times_two_b(5)"
   ]
  },
  {
   "cell_type": "code",
   "execution_count": 244,
   "metadata": {},
   "outputs": [
    {
     "data": {
      "text/plain": [
       "'Be sure your input is a number.'"
      ]
     },
     "execution_count": 244,
     "metadata": {},
     "output_type": "execute_result"
    }
   ],
   "source": [
    "times_two_b(\"what's up\")"
   ]
  },
  {
   "cell_type": "markdown",
   "metadata": {},
   "source": [
    "Let's continue with this error checking tangent for one more line. Python is actually pretty smart. If someone inputs the string '5', it will convert it to the integer 5. Similarly, the string '5.1' will be converted to the float 5.1. However, the string 'five' will not be converted to a number. "
   ]
  },
  {
   "cell_type": "code",
   "execution_count": 245,
   "metadata": {},
   "outputs": [
    {
     "data": {
      "text/plain": [
       "10.0"
      ]
     },
     "execution_count": 245,
     "metadata": {},
     "output_type": "execute_result"
    }
   ],
   "source": [
    "times_two_b('5')"
   ]
  },
  {
   "cell_type": "markdown",
   "metadata": {},
   "source": [
    "***\n",
    "## **3.2 Intermediate functions**\n",
    "OK. Back to functions. Let's write a more complex function...at least a little more complex...and something that looks familiar."
   ]
  },
  {
   "cell_type": "code",
   "execution_count": 246,
   "metadata": {},
   "outputs": [],
   "source": [
    "def ndvi(red, nir):\n",
    "    num = nir - red\n",
    "    den = nir + red\n",
    "    return num / den"
   ]
  },
  {
   "cell_type": "code",
   "execution_count": 247,
   "metadata": {},
   "outputs": [
    {
     "data": {
      "text/plain": [
       "0.746031746031746"
      ]
     },
     "execution_count": 247,
     "metadata": {},
     "output_type": "execute_result"
    }
   ],
   "source": [
    "ndvi(8, 55)"
   ]
  },
  {
   "cell_type": "markdown",
   "metadata": {},
   "source": [
    "**Works great!**\n",
    "\n",
    "Now, what if we wanted to stretch the ndvi value to the range of an 8-bit integer? We could do that do, too, in conjunction with another function."
   ]
  },
  {
   "cell_type": "code",
   "execution_count": 248,
   "metadata": {},
   "outputs": [],
   "source": [
    "def stretch(value, min_value, max_value, min_range, max_range):\n",
    "    \"\"\"\n",
    "    Stretches the input value from min_range to max_range\n",
    "    \n",
    "    Parameters\n",
    "    ----------\n",
    "    value: number (int or float) \n",
    "        The value that will be stretched\n",
    "    min_value: number (int or float)\n",
    "        The minimum of all values that will be passed to this function\n",
    "    max_value: number (int or float)\n",
    "        The maximum of all values that will be passed to this function\n",
    "    min_range: integer\n",
    "        The minimum value in the output range of stretched values\n",
    "    max_range: integer\n",
    "        The maximum value in the output range of stretched values\n",
    "    \n",
    "    Returns\n",
    "    -------\n",
    "    The stretched input value.\n",
    "    \"\"\"\n",
    "    \n",
    "    input_range = max_value - min_value\n",
    "    output_range = max_range - min_range\n",
    "    norm_val = (value - min_value) / input_range\n",
    "    \n",
    "    return round(norm_val * output_range + min_range)"
   ]
  },
  {
   "cell_type": "code",
   "execution_count": 249,
   "metadata": {},
   "outputs": [
    {
     "data": {
      "text/plain": [
       "1"
      ]
     },
     "execution_count": 249,
     "metadata": {},
     "output_type": "execute_result"
    }
   ],
   "source": [
    "stretch(10, 10, 100, 1, 255) # What value should this return? If we are stretching values from 10 to 100 (the input values) from 1 to 255 (the stretched output values), and the value we want to stretch is 10...what should the output be? See if you can calculate it before running the code cell. Did it work?"
   ]
  },
  {
   "cell_type": "code",
   "execution_count": 250,
   "metadata": {},
   "outputs": [
    {
     "data": {
      "text/plain": [
       "255"
      ]
     },
     "execution_count": 250,
     "metadata": {},
     "output_type": "execute_result"
    }
   ],
   "source": [
    "stretch(100, 10, 100, 1, 255)"
   ]
  },
  {
   "cell_type": "code",
   "execution_count": 251,
   "metadata": {},
   "outputs": [
    {
     "data": {
      "text/plain": [
       "128"
      ]
     },
     "execution_count": 251,
     "metadata": {},
     "output_type": "execute_result"
    }
   ],
   "source": [
    "stretch(55, 10, 100, 1, 255)"
   ]
  },
  {
   "cell_type": "code",
   "execution_count": 252,
   "metadata": {},
   "outputs": [
    {
     "data": {
      "text/plain": [
       "4"
      ]
     },
     "execution_count": 252,
     "metadata": {},
     "output_type": "execute_result"
    }
   ],
   "source": [
    "stretch(11, 10, 100, 1, 255)"
   ]
  },
  {
   "cell_type": "code",
   "execution_count": 253,
   "metadata": {},
   "outputs": [
    {
     "data": {
      "text/plain": [
       "int"
      ]
     },
     "execution_count": 253,
     "metadata": {},
     "output_type": "execute_result"
    }
   ],
   "source": [
    "type(stretch(11, 10, 100, 1, 255))"
   ]
  },
  {
   "cell_type": "markdown",
   "metadata": {},
   "source": [
    "One step further now. Let's pass a function to a function. Below, the function **ndvi** returns a value, and that return value is the first parameter in the **stretch** function."
   ]
  },
  {
   "cell_type": "code",
   "execution_count": 254,
   "metadata": {},
   "outputs": [
    {
     "data": {
      "text/plain": [
       "225"
      ]
     },
     "execution_count": 254,
     "metadata": {},
     "output_type": "execute_result"
    }
   ],
   "source": [
    "stretch(ndvi(8, 60), -1, 1, 1, 255)"
   ]
  },
  {
   "cell_type": "markdown",
   "metadata": {},
   "source": [
    "***\n",
    "## **3.3 Function application to a _small_ image of our own making**\n",
    "Now we will create a small image like we did in one of the previous tutorials. We will apply our 2 functions to this image. This will be a 2-band image with red and near-infrared bands. We'll approximate values for healthly vegetation on the left side of the image and snow on the right side."
   ]
  },
  {
   "cell_type": "code",
   "execution_count": 255,
   "metadata": {},
   "outputs": [],
   "source": [
    "import numpy as np\n",
    "red_list = [\n",
    "    5, 4, 3, 75,83, 79,\n",
    "    4, 7, 5, 83, 81, 68,\n",
    "    8, 7, 3, 69, 67, 91,\n",
    "    3, 5, 7, 66, 74, 76\n",
    "]\n",
    "nir_list = [\n",
    "    55, 49, 56, 77,85, 77,\n",
    "    49, 57, 65, 82, 83, 66,\n",
    "    48, 57, 63, 70, 64, 88,\n",
    "    53, 65, 57, 72, 71, 76\n",
    "]\n",
    "red = np.array(red_list, dtype=np.float).reshape(4,6)\n",
    "nir = np.array(nir_list, dtype=np.float).reshape(4,6)\n",
    "img = np.array([red, nir])"
   ]
  },
  {
   "cell_type": "code",
   "execution_count": 256,
   "metadata": {},
   "outputs": [
    {
     "data": {
      "text/plain": [
       "array([[[ 5.,  4.,  3., 75., 83., 79.],\n",
       "        [ 4.,  7.,  5., 83., 81., 68.],\n",
       "        [ 8.,  7.,  3., 69., 67., 91.],\n",
       "        [ 3.,  5.,  7., 66., 74., 76.]],\n",
       "\n",
       "       [[55., 49., 56., 77., 85., 77.],\n",
       "        [49., 57., 65., 82., 83., 66.],\n",
       "        [48., 57., 63., 70., 64., 88.],\n",
       "        [53., 65., 57., 72., 71., 76.]]])"
      ]
     },
     "execution_count": 256,
     "metadata": {},
     "output_type": "execute_result"
    }
   ],
   "source": [
    "img"
   ]
  },
  {
   "cell_type": "code",
   "execution_count": 257,
   "metadata": {},
   "outputs": [
    {
     "name": "stdout",
     "output_type": "stream",
     "text": [
      "This image has 4 rows 6 columns and 2 bands.\n",
      "Each pixel is of type 'float64'\n"
     ]
    }
   ],
   "source": [
    "info = img.shape\n",
    "print(\"This image has \" + str(info[1]) + \" rows \" + str(info[2]) + \" columns and \" + str(info[0]) + \" bands.\")\n",
    "print(\"Each pixel is of type '\" + str(img.dtype) + \"'\")"
   ]
  },
  {
   "cell_type": "code",
   "execution_count": 258,
   "metadata": {},
   "outputs": [],
   "source": [
    "%matplotlib inline \n",
    "# for an interactive plot, use '%matplotlib notebook' instead of '%matplotlib inline'\n",
    "import matplotlib\n",
    "import matplotlib.pyplot as plt"
   ]
  },
  {
   "cell_type": "code",
   "execution_count": 259,
   "metadata": {},
   "outputs": [
    {
     "data": {
      "text/plain": [
       "<matplotlib.colorbar.Colorbar at 0x7fda9c84fa58>"
      ]
     },
     "execution_count": 259,
     "metadata": {},
     "output_type": "execute_result"
    },
    {
     "data": {
      "image/png": "[encoded data removed]",
      "text/plain": [
       "<Figure size 432x288 with 2 Axes>"
      ]
     },
     "metadata": {
      "needs_background": "light"
     },
     "output_type": "display_data"
    }
   ],
   "source": [
    "plt.imshow(img[0])\n",
    "plt.colorbar()"
   ]
  },
  {
   "cell_type": "code",
   "execution_count": 260,
   "metadata": {},
   "outputs": [
    {
     "data": {
      "text/plain": [
       "<matplotlib.colorbar.Colorbar at 0x7fda9c7fde10>"
      ]
     },
     "execution_count": 260,
     "metadata": {},
     "output_type": "execute_result"
    },
    {
     "data": {
      "image/png": "[encoded data removed]",
      "text/plain": [
       "<Figure size 432x288 with 2 Axes>"
      ]
     },
     "metadata": {
      "needs_background": "light"
     },
     "output_type": "display_data"
    }
   ],
   "source": [
    "plt.imshow(img[1])\n",
    "plt.colorbar()"
   ]
  },
  {
   "cell_type": "code",
   "execution_count": 261,
   "metadata": {},
   "outputs": [],
   "source": [
    "bands = img.shape[0]\n",
    "rows = img.shape[1]\n",
    "cols = img.shape[2]"
   ]
  },
  {
   "cell_type": "code",
   "execution_count": 262,
   "metadata": {},
   "outputs": [
    {
     "name": "stdout",
     "output_type": "stream",
     "text": [
      "2\n",
      "4\n",
      "6\n"
     ]
    }
   ],
   "source": [
    "print(bands)\n",
    "print(rows)\n",
    "print(cols)"
   ]
  },
  {
   "cell_type": "code",
   "execution_count": 263,
   "metadata": {},
   "outputs": [
    {
     "name": "stdout",
     "output_type": "stream",
     "text": [
      "\n",
      "\n",
      "5.0, 4.0, 3.0, 75.0, 83.0, 79.0, \n",
      "4.0, 7.0, 5.0, 83.0, 81.0, 68.0, \n",
      "8.0, 7.0, 3.0, 69.0, 67.0, 91.0, \n",
      "3.0, 5.0, 7.0, 66.0, 74.0, 76.0, \n",
      "\n",
      "55.0, 49.0, 56.0, 77.0, 85.0, 77.0, \n",
      "49.0, 57.0, 65.0, 82.0, 83.0, 66.0, \n",
      "48.0, 57.0, 63.0, 70.0, 64.0, 88.0, \n",
      "53.0, 65.0, 57.0, 72.0, 71.0, 76.0, "
     ]
    }
   ],
   "source": [
    "for b in range(bands):\n",
    "    print()\n",
    "    for r in range(rows):\n",
    "        print()\n",
    "        for c in range(cols):\n",
    "            print(img[b][r][c], end=', ')"
   ]
  },
  {
   "cell_type": "code",
   "execution_count": 264,
   "metadata": {},
   "outputs": [],
   "source": [
    "ndvi_output = np.empty([4, 6])\n",
    "for r in range(rows):\n",
    "    for c in range(cols):\n",
    "        ndvi_output[r][c] = ndvi(img[0][r][c], img[1][r][c])"
   ]
  },
  {
   "cell_type": "code",
   "execution_count": 265,
   "metadata": {},
   "outputs": [
    {
     "data": {
      "text/plain": [
       "<matplotlib.colorbar.Colorbar at 0x7fda9c73b320>"
      ]
     },
     "execution_count": 265,
     "metadata": {},
     "output_type": "execute_result"
    },
    {
     "data": {
      "image/png": "[encoded data removed]",
      "text/plain": [
       "<Figure size 432x288 with 2 Axes>"
      ]
     },
     "metadata": {
      "needs_background": "light"
     },
     "output_type": "display_data"
    }
   ],
   "source": [
    "plt.imshow(ndvi_output)\n",
    "plt.colorbar()"
   ]
  },
  {
   "cell_type": "code",
   "execution_count": 266,
   "metadata": {},
   "outputs": [
    {
     "name": "stdout",
     "output_type": "stream",
     "text": [
      "-0.022900763358778626\n",
      "0.9090909090909091\n"
     ]
    }
   ],
   "source": [
    "ndvi_min = ndvi_output.min()\n",
    "ndvi_max = ndvi_output.max()\n",
    "print(ndvi_min)\n",
    "print(ndvi_max)"
   ]
  },
  {
   "cell_type": "code",
   "execution_count": 267,
   "metadata": {},
   "outputs": [],
   "source": [
    "ndvi_stretched = np.empty([4, 6])\n",
    "for r in range(rows):\n",
    "    for c in range(cols):\n",
    "        ndvi_stretched[r][c] = stretch(ndvi_output[r][c], ndvi_min, ndvi_max, 1, 255)"
   ]
  },
  {
   "cell_type": "code",
   "execution_count": 268,
   "metadata": {},
   "outputs": [
    {
     "data": {
      "text/plain": [
       "array([[234., 239., 252.,  11.,  10.,   4.],\n",
       "       [239., 220., 241.,   6.,  11.,   3.],\n",
       "       [202., 220., 255.,   9.,   1.,   3.],\n",
       "       [251., 241., 220.,  19.,   2.,   7.]])"
      ]
     },
     "execution_count": 268,
     "metadata": {},
     "output_type": "execute_result"
    }
   ],
   "source": [
    "ndvi_stretched"
   ]
  },
  {
   "cell_type": "code",
   "execution_count": 269,
   "metadata": {},
   "outputs": [
    {
     "data": {
      "text/plain": [
       "<matplotlib.colorbar.Colorbar at 0x7fda9c665550>"
      ]
     },
     "execution_count": 269,
     "metadata": {},
     "output_type": "execute_result"
    },
    {
     "data": {
      "image/png": "[encoded data removed]",
      "text/plain": [
       "<Figure size 432x288 with 2 Axes>"
      ]
     },
     "metadata": {
      "needs_background": "light"
     },
     "output_type": "display_data"
    }
   ],
   "source": [
    "plt.imshow(ndvi_stretched)\n",
    "plt.colorbar()"
   ]
  },
  {
   "cell_type": "markdown",
   "metadata": {},
   "source": [
    "***\n",
    "## **3.4 That was nice, but there is a faster, better way.**\n",
    "In section 3.3, you learned about functions and applied them to a small image. We used ```for``` loops to iterate over our arrays. I hope that how and why we use a ```for``` loop was clear and that you feel more comfortable using them now. But, ```for``` loops are not the best method here. ```for``` loops are slow (in Python...not the case in C or derivatives) and there are more Pythonic ways to do things...and they are much faster, too. (Yes, Pythonic is really what they say.) **Numpy** is optimized for speed and has many functions that work on entire arrays at once. For example ```np.multiply(arr1, arr2)``` will multiple every element of the arrays ```arr1``` and ```arr2```. (Yes, the arrays have to be of the same size.) No more (explicit) iterating for you. "
   ]
  },
  {
   "cell_type": "code",
   "execution_count": 270,
   "metadata": {},
   "outputs": [],
   "source": [
    "num = np.subtract(nir, red)\n",
    "den = np.add(nir, red)\n",
    "ndvi2 = np.divide(num, den)"
   ]
  },
  {
   "cell_type": "markdown",
   "metadata": {},
   "source": [
    "Before you continue, can you rewrute the ndvi calculation (the 3 lines of code from the cell above) as only one line of code? In the next cel, type: ```ndvi2 = ``` and finish the one line of code. The remaining code cells will only work if you calculate ndvi2 first."
   ]
  },
  {
   "cell_type": "code",
   "execution_count": null,
   "metadata": {},
   "outputs": [],
   "source": [
    "ndvi2 = "
   ]
  },
  {
   "cell_type": "code",
   "execution_count": 281,
   "metadata": {},
   "outputs": [
    {
     "data": {
      "text/plain": [
       "array([[ 0.83333333,  0.8490566 ,  0.89830508,  0.01315789,  0.01190476,\n",
       "        -0.01282051],\n",
       "       [ 0.8490566 ,  0.78125   ,  0.85714286, -0.00606061,  0.01219512,\n",
       "        -0.01492537],\n",
       "       [ 0.71428571,  0.78125   ,  0.90909091,  0.00719424, -0.02290076,\n",
       "        -0.01675978],\n",
       "       [ 0.89285714,  0.85714286,  0.78125   ,  0.04347826, -0.02068966,\n",
       "         0.        ]])"
      ]
     },
     "execution_count": 281,
     "metadata": {},
     "output_type": "execute_result"
    }
   ],
   "source": [
    "ndvi2"
   ]
  },
  {
   "cell_type": "code",
   "execution_count": 282,
   "metadata": {},
   "outputs": [],
   "source": [
    "def stretch2(ndvi):\n",
    "    return np.array(np.interp(ndvi2, (ndvi2.min(), ndvi2.max()), (1, 255)), dtype='int')"
   ]
  },
  {
   "cell_type": "code",
   "execution_count": 283,
   "metadata": {},
   "outputs": [],
   "source": [
    "ndvi_stretch2 = stretch2(ndvi2)"
   ]
  },
  {
   "cell_type": "code",
   "execution_count": 284,
   "metadata": {},
   "outputs": [
    {
     "data": {
      "text/plain": [
       "array([[234, 238, 252,  10,  10,   3],\n",
       "       [238, 220, 240,   5,  10,   3],\n",
       "       [201, 220, 255,   9,   1,   2],\n",
       "       [250, 240, 220,  19,   1,   7]])"
      ]
     },
     "execution_count": 284,
     "metadata": {},
     "output_type": "execute_result"
    }
   ],
   "source": [
    "ndvi_stretch2"
   ]
  },
  {
   "cell_type": "code",
   "execution_count": 285,
   "metadata": {},
   "outputs": [
    {
     "data": {
      "text/plain": [
       "<matplotlib.colorbar.Colorbar at 0x7fda9c53a2e8>"
      ]
     },
     "execution_count": 285,
     "metadata": {},
     "output_type": "execute_result"
    },
    {
     "data": {
      "image/png": "[encoded data removed]",
      "text/plain": [
       "<Figure size 432x288 with 2 Axes>"
      ]
     },
     "metadata": {
      "needs_background": "light"
     },
     "output_type": "display_data"
    }
   ],
   "source": [
    "plt.imshow(ndvi_stretch2)\n",
    "plt.colorbar()"
   ]
  },
  {
   "cell_type": "code",
   "execution_count": null,
   "metadata": {},
   "outputs": [],
   "source": []
  }
 ],
 "metadata": {
  "kernelspec": {
   "display_name": "Python 3",
   "language": "python",
   "name": "python3"
  },
  "language_info": {
   "codemirror_mode": {
    "name": "ipython",
    "version": 3
   },
   "file_extension": ".py",
   "mimetype": "text/x-python",
   "name": "python",
   "nbconvert_exporter": "python",
   "pygments_lexer": "ipython3",
   "version": "3.7.3"
  }
 },
 "nbformat": 4,
 "nbformat_minor": 4
}
