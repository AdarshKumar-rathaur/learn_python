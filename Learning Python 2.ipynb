{
 "cells": [
  {
   "cell_type": "markdown",
   "metadata": {},
   "source": [
    "# Learning Python 2\n",
    "\n",
    "This lesson will introduce you to lists, dictionaries and arrays, with some conditional statements and flow control mixed in. Let's get started.\n",
    "\n",
    "The tutorial your are completing is delivered as a Jupyter Notebook. Jupyter runs on top of an installation of Python. Each time you enter something into one of the boxes below, you are entering Python code. Each time you push the Run button above, you tell Python to run the code you have entered into the box. The result of running your code is dispalyed directly below the box where you entered your code."
   ]
  },
  {
   "cell_type": "markdown",
   "metadata": {},
   "source": [
    "## I. Lists"
   ]
  },
  {
   "cell_type": "markdown",
   "metadata": {},
   "source": [
    "Lists are a kind of _compound python data type_ that group together similar items. Lists are part of the core Python library. They are, as the name implies, lists of things. The things may include strings, numbers, or other lists, among other things. Most often lists contain items of the same type--only numbers or only strings, for example. List elements are contained in square brackets and each list item is separated by a comma. We'll start with a list of strings."
   ]
  },
  {
   "cell_type": "markdown",
   "metadata": {},
   "source": [
    "**1. Enter:**\n",
    "```Python\n",
    "my_list = ['hi', 'how', 'are', 'you']\n",
    "```"
   ]
  },
  {
   "cell_type": "markdown",
   "metadata": {},
   "source": [
    "**2. And print it. **"
   ]
  },
  {
   "cell_type": "code",
   "execution_count": null,
   "metadata": {},
   "outputs": [],
   "source": []
  },
  {
   "cell_type": "markdown",
   "metadata": {},
   "source": [
    "Lists are similar to strings in that they can both be indexed and sliced. Using what you know about string indexing, \n",
    "\n",
    "**3. Print the 0th element of my_list?**"
   ]
  },
  {
   "cell_type": "code",
   "execution_count": null,
   "metadata": {},
   "outputs": [],
   "source": []
  },
  {
   "cell_type": "markdown",
   "metadata": {},
   "source": [
    "All the rules you learned for slicing strings apply equally to lists. So to do the rules for slicing. Let's try one: \n",
    "\n",
    "**4. Print the 2nd and 3rd values of the list my_list.**"
   ]
  },
  {
   "cell_type": "code",
   "execution_count": null,
   "metadata": {},
   "outputs": [],
   "source": []
  },
  {
   "cell_type": "markdown",
   "metadata": {},
   "source": [
    "You can also determine the length of the list using the ```len(a_list)``` function. \n",
    "\n",
    "**5. What is the length of my_list**"
   ]
  },
  {
   "cell_type": "code",
   "execution_count": null,
   "metadata": {},
   "outputs": [],
   "source": []
  },
  {
   "cell_type": "markdown",
   "metadata": {},
   "source": [
    "You will notice that this is the number of elements in the list (it should be 4), even when the numbering begins at 0. The elments in the list begin at 0 and end with 3--there are 4 of them in my_list.\n",
    "\n",
    "**6. Create two new lists that each contains 5 numeric elements. Name them whatever you like**"
   ]
  },
  {
   "cell_type": "code",
   "execution_count": null,
   "metadata": {},
   "outputs": [],
   "source": []
  },
  {
   "cell_type": "code",
   "execution_count": null,
   "metadata": {},
   "outputs": [],
   "source": []
  },
  {
   "cell_type": "markdown",
   "metadata": {},
   "source": [
    "You concatenate lists using the ```+``` operator. \n",
    "\n",
    "**7. Concatenate the lists and assign the result to a new variable named big_nums. Print big_nums' length.**"
   ]
  },
  {
   "cell_type": "code",
   "execution_count": null,
   "metadata": {},
   "outputs": [],
   "source": []
  },
  {
   "cell_type": "code",
   "execution_count": null,
   "metadata": {},
   "outputs": [],
   "source": []
  },
  {
   "cell_type": "markdown",
   "metadata": {},
   "source": [
    "**8. Print the list to see the order of the concatenated elements.**"
   ]
  },
  {
   "cell_type": "code",
   "execution_count": null,
   "metadata": {},
   "outputs": [],
   "source": []
  },
  {
   "cell_type": "markdown",
   "metadata": {},
   "source": [
    "Depending on the numbers you used, you may or may not notice that the numbers are not sorted--they are in the order in which you concatenated them and as you listed them in the original lists. \n",
    "\n",
    "Lists are mutable, which means their contents can be changed after they are created. To change an existing element you need to index that element and then assign a new value to it using the ```=``` sign.\n",
    "\n",
    "**9. Assign the value of 999 to the 5th element in the list. Print the list**"
   ]
  },
  {
   "cell_type": "code",
   "execution_count": null,
   "metadata": {},
   "outputs": [],
   "source": []
  },
  {
   "cell_type": "code",
   "execution_count": null,
   "metadata": {},
   "outputs": [],
   "source": []
  },
  {
   "cell_type": "markdown",
   "metadata": {},
   "source": [
    "You can do this with slices, also. \n",
    "\n",
    "**Enter:**\n",
    "```Python\n",
    "big_nums[3:6] = 1, 1, 1\n",
    "```"
   ]
  },
  {
   "cell_type": "code",
   "execution_count": null,
   "metadata": {},
   "outputs": [],
   "source": []
  },
  {
   "cell_type": "code",
   "execution_count": null,
   "metadata": {},
   "outputs": [],
   "source": []
  },
  {
   "cell_type": "markdown",
   "metadata": {},
   "source": [
    "Whoa! What happened? A single list can contain multiple data types--there is no restriction that lists contain elements of the same type. \n",
    "\n",
    "If you want to append an element to the list one the list has been created you can use the ```append``` method. \n",
    "\n",
    "**10. Enter:***\n",
    "```Python\n",
    "big_nums.append(123)\n",
    "```\n",
    "**and then print *big\\_nums***"
   ]
  },
  {
   "cell_type": "code",
   "execution_count": null,
   "metadata": {},
   "outputs": [],
   "source": []
  },
  {
   "cell_type": "code",
   "execution_count": null,
   "metadata": {},
   "outputs": [],
   "source": []
  },
  {
   "cell_type": "markdown",
   "metadata": {},
   "source": [
    "Earlier I mentioned that the list was not sorted. Well, we can change that. First, we can only sort a list if it is of a single data type. So...\n",
    "\n",
    "**11. Remove the string from the list, sort like below, then print:**\n",
    "```Python\n",
    "big_nums.pop(5)\n",
    "big_nums.sort()\n",
    "print(big_nums)\n",
    "```"
   ]
  },
  {
   "cell_type": "code",
   "execution_count": null,
   "metadata": {},
   "outputs": [],
   "source": []
  },
  {
   "cell_type": "markdown",
   "metadata": {},
   "source": [
    "One last method: ```range```. Actually, ```range``` isn't a method, but a sequence type. If you were to print a ```range``` it wouldn't look like a regular list. But you can index and slice the ```range``` just like a list. For now, however, let's think of range as a method that creates a ```list```. So...the ```range``` method will create a list of numbers in sequential order. It can be used a couple different ways. \n",
    "\n",
    "First, you can use it to create a sequential list of integers as ```range(min_inclusive, max_exclusive)```. The ```min_exclusive``` value will be the 0th element in the list. The nth element will be 1 less than the max_exclusive value. \n",
    "\n",
    "Second, you can use it to create a sequential list of integers where each element is a specified step from the previous element (i.e., not necessarily an increase of 1 integer). It works this was: ```range(min_inclusive, max_exclusive, step)```.\n",
    "\n",
    "**12. Create and print a range of values named _rang_ with values from 10 (inclusive) to 20 (exclusive).**\n",
    "\n"
   ]
  },
  {
   "cell_type": "code",
   "execution_count": null,
   "metadata": {},
   "outputs": [],
   "source": []
  },
  {
   "cell_type": "markdown",
   "metadata": {},
   "source": [
    "Now that doesn't look like a list, does it?\n",
    "\n",
    "**13. What is the 7th index value of the range?**"
   ]
  },
  {
   "cell_type": "code",
   "execution_count": null,
   "metadata": {},
   "outputs": [],
   "source": []
  },
  {
   "cell_type": "markdown",
   "metadata": {},
   "source": [
    "See, it works like a list (...but it's really a [sequence](https://docs.python.org/3/library/stdtypes.html#typesseq-range). Finally, if you want an actual list you can create it from a range with the ```list(range)``` method. ```list``` is the method call and ```range``` is the only parameter. \n",
    "\n",
    "**14. Create a list from _rang_ and name it _lst_. Print _lst_**"
   ]
  },
  {
   "cell_type": "code",
   "execution_count": null,
   "metadata": {},
   "outputs": [],
   "source": []
  },
  {
   "cell_type": "markdown",
   "metadata": {},
   "source": [
    "Now that looks familiar!\n",
    "\n",
    "Check out all the other methods available for lists at [https://docs.python.org/3/tutorial/datastructures.html](https://docs.python.org/3/tutorial/datastructures.html)"
   ]
  },
  {
   "cell_type": "markdown",
   "metadata": {},
   "source": [
    "## II. A note about Python modules\n",
    "\n",
    "One of the great things about Python is that there are many modules outside of the core Python package that can be used to do things. Some things are fairly simply, like create random numbers, while others are more complex, like image processing, spatial analysis or machine learning. The libraries that do these things are not available by default when you use Python--they have to be imported. (They have to be available on your computer, also, but that is an installation issue that we will cover later.) \n",
    "\n",
    "**15. Enter:**\n",
    "```Python\n",
    "import random\n",
    "```"
   ]
  },
  {
   "cell_type": "code",
   "execution_count": null,
   "metadata": {},
   "outputs": [],
   "source": []
  },
  {
   "cell_type": "markdown",
   "metadata": {},
   "source": [
    "You can read all about the ```random``` module [here](https://docs.python.org/3/library/random.html), but we will use two methods here: random() and randint().\n",
    "\n",
    "**16. Enter**\n",
    "```Python\n",
    "random.random()\n",
    "```\n",
    "**and (in the next box)**\n",
    "```Python\n",
    "random.randint(0, 5)\n",
    "```"
   ]
  },
  {
   "cell_type": "code",
   "execution_count": null,
   "metadata": {},
   "outputs": [],
   "source": []
  },
  {
   "cell_type": "code",
   "execution_count": null,
   "metadata": {},
   "outputs": [],
   "source": []
  },
  {
   "cell_type": "markdown",
   "metadata": {},
   "source": [
    "Go back to the previous 2 boxes and run them again. Each time you will get different random numbers. \n",
    "\n",
    "The important point here is that you can import modules that contain \"extra\" functionality--that enhance core Python. \n",
    "\n",
    "Here are some links to important libraries for scientific computing (including geospatial analysis).\n",
    "\n",
    "1. [Numpy](http://www.numpy.org) - we'll get to this one in just a minute\n",
    "2. [Scipy](https://www.scipy.org)\n",
    "3. [Matplotlib](https://matplotlib.org)\n",
    "4. [Rasterio](https://mapbox.github.io/rasterio/)\n",
    "5. [Fiona](http://toblerity.org/fiona/)\n",
    "6. [Shapely](http://toblerity.org/shapely/manual.html)\n",
    "7. [Arcpy](https://desktop.arcgis.com/en/arcmap/latest/analyze/arcpy/what-is-arcpy-.htm) - for those using the ESRI suite of products"
   ]
  },
  {
   "cell_type": "markdown",
   "metadata": {},
   "source": [
    "## III. Flow control\n",
    "\n",
    "- Loops: _for_ and _while_ loops\n",
    "- Conditional statements: _if, then, else_, and _case_ statements"
   ]
  },
  {
   "cell_type": "code",
   "execution_count": 59,
   "metadata": {},
   "outputs": [
    {
     "name": "stdout",
     "output_type": "stream",
     "text": [
      "0\n",
      "1\n",
      "2\n",
      "3\n",
      "4\n",
      "5\n",
      "6\n",
      "7\n",
      "8\n",
      "9\n"
     ]
    }
   ],
   "source": [
    "for i in range(0, 10):\n",
    "    print(i)"
   ]
  },
  {
   "cell_type": "code",
   "execution_count": 60,
   "metadata": {},
   "outputs": [
    {
     "name": "stdout",
     "output_type": "stream",
     "text": [
      "1\n",
      "2\n",
      "3\n",
      "4\n",
      "5\n",
      "6\n",
      "7\n",
      "8\n",
      "9\n"
     ]
    }
   ],
   "source": [
    "maximum = 10\n",
    "for i in range(1, maximum):\n",
    "    print(i)"
   ]
  },
  {
   "cell_type": "code",
   "execution_count": 61,
   "metadata": {},
   "outputs": [
    {
     "name": "stdout",
     "output_type": "stream",
     "text": [
      "1\n"
     ]
    }
   ],
   "source": [
    "import random\n",
    "val = random.random()\n",
    "count = 1\n",
    "while (val > 0.5):\n",
    "    print(count)\n",
    "    count += 1\n",
    "    val = random.random()"
   ]
  },
  {
   "cell_type": "code",
   "execution_count": 62,
   "metadata": {},
   "outputs": [
    {
     "name": "stdout",
     "output_type": "stream",
     "text": [
      "hi\n",
      "how\n",
      "are\n",
      "you\n"
     ]
    }
   ],
   "source": [
    "my_list = ['hi', 'how', 'are', 'you']\n",
    "for l in my_list:\n",
    "    print(l)"
   ]
  },
  {
   "cell_type": "code",
   "execution_count": 15,
   "metadata": {},
   "outputs": [
    {
     "name": "stdout",
     "output_type": "stream",
     "text": [
      "0 is in the 1st third of the values\n",
      "1 is in the 1st third of the values\n",
      "2 is in the 1st third of the values\n",
      "3 is in the 2nd third of the values\n",
      "4 is in the 2nd third of the values\n",
      "5 is in the 2nd third of the values\n",
      "6 is in the 3rd third of the values\n",
      "7 is in the 3rd third of the values\n",
      "8 is in the 3rd third of the values\n"
     ]
    }
   ],
   "source": [
    "rang = range(0, 9)\n",
    "maximum = max(rang)\n",
    "for r in rang:\n",
    "    if r / maximum < 0.33:\n",
    "        print(str(r) + \" is in the 1st third of the values\")\n",
    "    elif r / maximum < 0.66:\n",
    "        print(str(r) + \" is in the 2nd third of the values\")\n",
    "    else:\n",
    "        print(str(r) + \" is in the 3rd third of the values\")"
   ]
  },
  {
   "cell_type": "code",
   "execution_count": 20,
   "metadata": {},
   "outputs": [
    {
     "name": "stdout",
     "output_type": "stream",
     "text": [
      "There are 25 even numbered values and 25 odd numbered values in the range 0 to 49.\n"
     ]
    }
   ],
   "source": [
    "odds = 0\n",
    "evens = 0\n",
    "rang = range(0, 50)\n",
    "for v in range(0, 50):\n",
    "    if v % 2 == 0:\n",
    "        evens += 1\n",
    "    else:\n",
    "        odds += 1\n",
    "print(\"There are \" + str(evens) + \" even numbered values and \" +\n",
    "      str(odds) + \" odd numbered values in the range \" +\n",
    "      str(min(rang)) + \" to \" + str(max(rang)) + \".\")"
   ]
  },
  {
   "cell_type": "markdown",
   "metadata": {},
   "source": [
    "## III. Dictionaries"
   ]
  },
  {
   "cell_type": "code",
   "execution_count": 23,
   "metadata": {},
   "outputs": [
    {
     "name": "stdout",
     "output_type": "stream",
     "text": [
      "{'name': 'Nate', 'surname': 'Currit', 'age': 102, 'future': 'bright'}\n"
     ]
    }
   ],
   "source": [
    "my_dict = {'name': 'Nate', 'surname': 'Currit', 'age': 102,\n",
    "           'future': 'bright'}\n",
    "print(my_dict)"
   ]
  },
  {
   "cell_type": "code",
   "execution_count": 8,
   "metadata": {},
   "outputs": [
    {
     "name": "stdout",
     "output_type": "stream",
     "text": [
      "My name is Nate Currit\n"
     ]
    }
   ],
   "source": [
    "print(\"My name is \" + my_dict['name'] + \" \" + my_dict['surname'])"
   ]
  },
  {
   "cell_type": "code",
   "execution_count": 24,
   "metadata": {},
   "outputs": [
    {
     "name": "stdout",
     "output_type": "stream",
     "text": [
      "I am 102 and my future is bright!\n"
     ]
    }
   ],
   "source": [
    "print(\"I am \" + str(my_dict['age']) +\n",
    "      \" years old and my future is \" + my_dict['future'] + \"!\")"
   ]
  },
  {
   "cell_type": "markdown",
   "metadata": {},
   "source": [
    "## IV. Arrays\n",
    "\n",
    "Arrays are (partly) typed lists--lists where each element is of the same numeric data type. Core Python doesn't actually have arrays. Numpy, however, does. Numpy is a library that has an array data structure and many methods that work with arrays. Numpy is fast and is essential for scientific computing. You can create a Numpy array from a list.\n",
    "\n",
    "**Enter:**\n",
    "```Python\n",
    "import numpy as np\n",
    "lst = range(0, 10)\n",
    "n_array = np.array(lst)\n",
    "print(type(n_array))```"
   ]
  },
  {
   "cell_type": "code",
   "execution_count": 34,
   "metadata": {},
   "outputs": [
    {
     "name": "stdout",
     "output_type": "stream",
     "text": [
      "<class 'numpy.ndarray'>\n"
     ]
    }
   ],
   "source": [
    "import numpy as np\n",
    "lst = range(0, 10)\n",
    "n_array = np.array(lst)\n",
    "print(type(n_array))"
   ]
  },
  {
   "cell_type": "code",
   "execution_count": 27,
   "metadata": {},
   "outputs": [
    {
     "name": "stdout",
     "output_type": "stream",
     "text": [
      "[0 1 2 3 4 5 6 7 8 9]\n"
     ]
    }
   ],
   "source": [
    "print(n_array)"
   ]
  },
  {
   "cell_type": "code",
   "execution_count": 28,
   "metadata": {},
   "outputs": [
    {
     "data": {
      "text/plain": [
       "(10,)"
      ]
     },
     "execution_count": 28,
     "metadata": {},
     "output_type": "execute_result"
    }
   ],
   "source": [
    "n_array.shape"
   ]
  },
  {
   "cell_type": "code",
   "execution_count": 30,
   "metadata": {},
   "outputs": [
    {
     "data": {
      "text/plain": [
       "dtype('int64')"
      ]
     },
     "execution_count": 30,
     "metadata": {},
     "output_type": "execute_result"
    }
   ],
   "source": [
    "n_array.dtype"
   ]
  },
  {
   "cell_type": "code",
   "execution_count": 31,
   "metadata": {},
   "outputs": [
    {
     "data": {
      "text/plain": [
       "array([[ 0,  1,  2,  3,  4],\n",
       "       [ 5,  6,  7,  8,  9],\n",
       "       [10, 11, 12, 13, 14]])"
      ]
     },
     "execution_count": 31,
     "metadata": {},
     "output_type": "execute_result"
    }
   ],
   "source": [
    "a = np.arange(15).reshape(3, 5)\n",
    "a"
   ]
  },
  {
   "cell_type": "code",
   "execution_count": 32,
   "metadata": {},
   "outputs": [
    {
     "data": {
      "text/plain": [
       "(3, 5)"
      ]
     },
     "execution_count": 32,
     "metadata": {},
     "output_type": "execute_result"
    }
   ],
   "source": [
    "a.shape"
   ]
  },
  {
   "cell_type": "code",
   "execution_count": 43,
   "metadata": {},
   "outputs": [
    {
     "data": {
      "text/plain": [
       "15"
      ]
     },
     "execution_count": 43,
     "metadata": {},
     "output_type": "execute_result"
    }
   ],
   "source": [
    "a.size"
   ]
  },
  {
   "cell_type": "code",
   "execution_count": 33,
   "metadata": {},
   "outputs": [
    {
     "data": {
      "text/plain": [
       "array([[ 1,  2,  3,  4,  5],\n",
       "       [ 6,  7,  8,  9, 10],\n",
       "       [11, 12, 13, 14, 15]])"
      ]
     },
     "execution_count": 33,
     "metadata": {},
     "output_type": "execute_result"
    }
   ],
   "source": [
    "a + 1"
   ]
  },
  {
   "cell_type": "code",
   "execution_count": 35,
   "metadata": {},
   "outputs": [
    {
     "data": {
      "text/plain": [
       "array([[0, 1, 0, 1, 0],\n",
       "       [1, 0, 1, 0, 1],\n",
       "       [0, 1, 0, 1, 0]])"
      ]
     },
     "execution_count": 35,
     "metadata": {},
     "output_type": "execute_result"
    }
   ],
   "source": [
    "a % 2"
   ]
  },
  {
   "cell_type": "code",
   "execution_count": 36,
   "metadata": {},
   "outputs": [
    {
     "data": {
      "text/plain": [
       "array([[False, False, False, False, False],\n",
       "       [False,  True,  True,  True,  True],\n",
       "       [ True,  True,  True,  True,  True]], dtype=bool)"
      ]
     },
     "execution_count": 36,
     "metadata": {},
     "output_type": "execute_result"
    }
   ],
   "source": [
    "a > 5"
   ]
  },
  {
   "cell_type": "code",
   "execution_count": 39,
   "metadata": {},
   "outputs": [
    {
     "name": "stdout",
     "output_type": "stream",
     "text": [
      "[[  0   1   4   9  16]\n",
      " [ 25  36  49  64  81]\n",
      " [100 121 144 169 196]]\n"
     ]
    }
   ],
   "source": [
    "b = a ** 2\n",
    "print(b)"
   ]
  },
  {
   "cell_type": "code",
   "execution_count": 42,
   "metadata": {},
   "outputs": [
    {
     "data": {
      "text/plain": [
       "array([[  2.00000000e-01,   2.20000000e+00,   6.20000000e+00,\n",
       "          1.22000000e+01,   2.02000000e+01],\n",
       "       [  3.02000000e+01,   4.22000000e+01,   5.62000000e+01,\n",
       "          7.22000000e+01,   9.02000000e+01],\n",
       "       [  1.10200000e+02,   1.32200000e+02,   1.56200000e+02,\n",
       "          1.82200000e+02,   2.10200000e+02]])"
      ]
     },
     "execution_count": 42,
     "metadata": {},
     "output_type": "execute_result"
    }
   ],
   "source": [
    "a + b.astype('float') + 0.2"
   ]
  },
  {
   "cell_type": "code",
   "execution_count": 46,
   "metadata": {},
   "outputs": [
    {
     "data": {
      "text/plain": [
       "0"
      ]
     },
     "execution_count": 46,
     "metadata": {},
     "output_type": "execute_result"
    }
   ],
   "source": [
    "a[0][0]"
   ]
  },
  {
   "cell_type": "code",
   "execution_count": 49,
   "metadata": {},
   "outputs": [
    {
     "data": {
      "text/plain": [
       "array([[0, 1, 2, 3, 4],\n",
       "       [5, 6, 7, 8, 9]])"
      ]
     },
     "execution_count": 49,
     "metadata": {},
     "output_type": "execute_result"
    }
   ],
   "source": [
    "a[0:2]"
   ]
  },
  {
   "cell_type": "code",
   "execution_count": 54,
   "metadata": {},
   "outputs": [
    {
     "data": {
      "text/plain": [
       "array([[3, 4],\n",
       "       [8, 9]])"
      ]
     },
     "execution_count": 54,
     "metadata": {},
     "output_type": "execute_result"
    }
   ],
   "source": [
    "a[0:2, 3:]"
   ]
  },
  {
   "cell_type": "code",
   "execution_count": 56,
   "metadata": {},
   "outputs": [
    {
     "data": {
      "text/plain": [
       "array([[ 0.06122449,  0.0625    ],\n",
       "       [ 0.05555556,  0.05325444]])"
      ]
     },
     "execution_count": 56,
     "metadata": {},
     "output_type": "execute_result"
    }
   ],
   "source": [
    "a[0:2, 3:] / b[1:3, 2:4]"
   ]
  },
  {
   "cell_type": "markdown",
   "metadata": {},
   "source": [
    "## V. What's coming"
   ]
  },
  {
   "cell_type": "code",
   "execution_count": 142,
   "metadata": {},
   "outputs": [
    {
     "name": "stdout",
     "output_type": "stream",
     "text": [
      "[  0.00000000e+00   1.00000000e-01   2.00000000e-01 ...,   3.59700000e+02\n",
      "   3.59800000e+02   3.59900000e+02]\n"
     ]
    }
   ],
   "source": [
    "%matplotlib inline\n",
    "import numpy as np\n",
    "import matplotlib.pyplot as plt\n",
    "x = np.arange(0, 360, 0.1)\n",
    "y = np.sin(np.radians(x))\n",
    "print(x)"
   ]
  },
  {
   "cell_type": "code",
   "execution_count": 143,
   "metadata": {},
   "outputs": [
    {
     "name": "stdout",
     "output_type": "stream",
     "text": [
      "[ 0.          0.00174533  0.00349065 ..., -0.00523596 -0.00349065\n",
      " -0.00174533]\n"
     ]
    }
   ],
   "source": [
    "print(y)"
   ]
  },
  {
   "cell_type": "code",
   "execution_count": 144,
   "metadata": {},
   "outputs": [
    {
     "data": {
      "text/plain": [
       "[<matplotlib.lines.Line2D at 0x7f503b545208>]"
      ]
     },
     "execution_count": 144,
     "metadata": {},
     "output_type": "execute_result"
    },
    {
     "data": {
      "image/png": "[encoded data removed]",
      "text/plain": [
       "<matplotlib.figure.Figure at 0x7f503b65f940>"
      ]
     },
     "metadata": {},
     "output_type": "display_data"
    }
   ],
   "source": [
    "plt.plot(x, y)"
   ]
  },
  {
   "cell_type": "code",
   "execution_count": null,
   "metadata": {},
   "outputs": [],
   "source": []
  }
 ],
 "metadata": {
  "kernelspec": {
   "display_name": "Python 3",
   "language": "python",
   "name": "python3"
  },
  "language_info": {
   "codemirror_mode": {
    "name": "ipython",
    "version": 3
   },
   "file_extension": ".py",
   "mimetype": "text/x-python",
   "name": "python",
   "nbconvert_exporter": "python",
   "pygments_lexer": "ipython3",
   "version": "3.7.3"
  }
 },
 "nbformat": 4,
 "nbformat_minor": 4
}
