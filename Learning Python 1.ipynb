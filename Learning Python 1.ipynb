{
 "cells": [
  {
   "cell_type": "markdown",
   "metadata": {},
   "source": [
    "# Learning Python 1\n",
    "\n",
    "This is part of a series of tutorials that will teach basic to complex python using the python core library. Later tutorials will teach data visualization and analysis.\n",
    "***\n",
    "\n",
    "The tutorial your are completing is delivered as a [Jupyter](https://jupyter.org) Notebook. Jupyter runs on top of an installation of Python. Each time you enter something into one of the boxes below, you are entering Python code. Each time you push the **Run** button above, you tell Python to run the code you have entered into the box. The result of running your code is dispalyed directly below the box where you entered your code. \n",
    "\n",
    "Instructions for creating your own Python environment and writing stand-alone code will be provided at the end of the tutorial series ."
   ]
  },
  {
   "cell_type": "markdown",
   "metadata": {},
   "source": [
    "## I. Python as a calculator"
   ]
  },
  {
   "cell_type": "markdown",
   "metadata": {},
   "source": [
    "Python can be used as a simple calculator. Use the box below to enter simple math calculations. For example, \n",
    "\n",
    "**1\\. Enter **\n",
    "```Python \n",
    "5 + 5\n",
    "```\n",
    "then press the \"Run\" button above. (Always click the run button to process the code you write in a cell.) Try addition, subtraction, multiplication and division...but keep it simple for now."
   ]
  },
  {
   "cell_type": "code",
   "execution_count": null,
   "metadata": {},
   "outputs": [],
   "source": []
  },
  {
   "cell_type": "markdown",
   "metadata": {},
   "source": [
    "OK, let's make things a bit more challenging. \n",
    "\n",
    "**2\\. Enter and examine the following equation:**\n",
    "\n",
    "```Python\n",
    "25 + 5 * 5\n",
    "```"
   ]
  },
  {
   "cell_type": "code",
   "execution_count": null,
   "metadata": {},
   "outputs": [],
   "source": []
  },
  {
   "cell_type": "markdown",
   "metadata": {},
   "source": [
    "Whoops! I thought the answer would be 150. Why isn't it? Because of the order of operations, of course.\n",
    "\n",
    "**3\\. How would I use parenthesis to get an answer of 150? Enter your answer below.**"
   ]
  },
  {
   "cell_type": "code",
   "execution_count": null,
   "metadata": {},
   "outputs": [],
   "source": []
  },
  {
   "cell_type": "markdown",
   "metadata": {},
   "source": [
    "Everything works with real numbers, too. \n",
    "\n",
    "**4\\. Enter:**\n",
    "```Python \n",
    "5.2 * 4\n",
    "```"
   ]
  },
  {
   "cell_type": "code",
   "execution_count": null,
   "metadata": {},
   "outputs": [],
   "source": []
  },
  {
   "cell_type": "markdown",
   "metadata": {},
   "source": [
    "#### Unique mathematical operators\n",
    "\n",
    "* Division-related operators"
   ]
  },
  {
   "cell_type": "markdown",
   "metadata": {},
   "source": [
    "Python has a few unique math operators and we'll look at a few: **'/'**, **'//'** and **'%'**. \n",
    "\n",
    "**5\\. First, enter **\n",
    "```Python\n",
    "10 / 3\n",
    "```"
   ]
  },
  {
   "cell_type": "code",
   "execution_count": null,
   "metadata": {},
   "outputs": [],
   "source": []
  },
  {
   "cell_type": "markdown",
   "metadata": {},
   "source": [
    "OK. That makes sense--that is what we expected. \n",
    "\n",
    "**6\\. Now enter**\n",
    "```Python\n",
    "10 // 3\n",
    "```"
   ]
  },
  {
   "cell_type": "code",
   "execution_count": null,
   "metadata": {},
   "outputs": [],
   "source": []
  },
  {
   "cell_type": "markdown",
   "metadata": {},
   "source": [
    "That's interesting. You may think that it rounds the answer, but you'd be wrong. '//' is the integer division operator. Any remainder is simply ignored. \n",
    "\n",
    "**7\\. Can you guess what the answer will be for the following? Will it be 1 or 2? Give it a try.**\n",
    "```Python\n",
    "12 // 7\n",
    "```"
   ]
  },
  {
   "cell_type": "code",
   "execution_count": null,
   "metadata": {},
   "outputs": [],
   "source": []
  },
  {
   "cell_type": "markdown",
   "metadata": {},
   "source": [
    "That is correct: it's 1. The answer is not rounded to the nearest integer--the remainder is simply ignored. Which brings us to the modulus operator: '%'. '%' returns the remainder of a division. \n",
    "\n",
    "**8\\. Enter:**\n",
    "```Python\n",
    "12 % 7\n",
    "```"
   ]
  },
  {
   "cell_type": "code",
   "execution_count": null,
   "metadata": {},
   "outputs": [],
   "source": []
  },
  {
   "cell_type": "markdown",
   "metadata": {},
   "source": [
    "7 goes into 12 once and there is a remainder of 5. It works!\n",
    "\n",
    "* Power-operator\n",
    "\n",
    "The ****** operator will raise a number to a power. \n",
    "\n",
    "**9\\. How many unique values can an 8-bit number binary (base 2) number hold? Enter:**\n",
    "```Python\n",
    "2 ** 8\n",
    "```"
   ]
  },
  {
   "cell_type": "code",
   "execution_count": null,
   "metadata": {},
   "outputs": [],
   "source": []
  },
  {
   "cell_type": "markdown",
   "metadata": {},
   "source": [
    "**10\\. How about a 16-bit integer?**"
   ]
  },
  {
   "cell_type": "code",
   "execution_count": null,
   "metadata": {},
   "outputs": [],
   "source": []
  },
  {
   "cell_type": "markdown",
   "metadata": {},
   "source": [
    "#### Variables\n",
    "\n",
    "To finish the Python as a calculator section, we'll learn about variables and variable assignment. \n",
    "\n",
    "As an example: a = 1. 'a' is a variable and the value '1' is assigned to 'a' using the equals (=) sign. \n",
    "\n",
    "Any string of characters can be used to identify a variable. Numbers can be used in the string, but the variable must always start with a text character. For example, f4 is a valid variable name. 4f is not and will cause an error. \n",
    "\n",
    "**11\\. In the box below, create a variable named '_num_' and assign it a value of 5. **"
   ]
  },
  {
   "cell_type": "code",
   "execution_count": null,
   "metadata": {},
   "outputs": [],
   "source": []
  },
  {
   "cell_type": "markdown",
   "metadata": {},
   "source": [
    "If you type the variable name at the Python prompt it will display the variable's value. \n",
    "\n",
    "**12\\. In the box below enter:**\n",
    "```Python\n",
    "num\n",
    "```"
   ]
  },
  {
   "cell_type": "code",
   "execution_count": null,
   "metadata": {},
   "outputs": [],
   "source": []
  },
  {
   "cell_type": "markdown",
   "metadata": {},
   "source": [
    "**13\\. Now, add 10 to num.**"
   ]
  },
  {
   "cell_type": "code",
   "execution_count": null,
   "metadata": {},
   "outputs": [],
   "source": []
  },
  {
   "cell_type": "markdown",
   "metadata": {},
   "source": [
    "That's right! You can do any of the math we previously covered with variables. That's pretty cool and actually gets us a ways down the road to writing more complex code that does really useful things. "
   ]
  },
  {
   "cell_type": "markdown",
   "metadata": {},
   "source": [
    "## 2. Strings\n",
    "\n",
    "From numbers we move on to text...formally known as strings. \n",
    "\n",
    "**14\\. Enter:**\n",
    "```Python\n",
    "'Hi, how are you?'\n",
    "```\n",
    "**(The quotes are essential here--enter them, too.)**"
   ]
  },
  {
   "cell_type": "code",
   "execution_count": null,
   "metadata": {},
   "outputs": [],
   "source": []
  },
  {
   "cell_type": "markdown",
   "metadata": {},
   "source": [
    "Python prints your string. We'll get more interesting soon, but first a few basic items. The string 'Hi, how are you?' is equivalent to \"Hi, how are you?\" (using double quotes). What if you wanted to write: 'I'm well.'? Do you notice anything that might cause trouble with that string? It has an apostrophe in the string and it looks like an end quote. Well, there are two ways around this problem: (1) escaping characters or (2) mixing single and double quotes. \n",
    "\n",
    "**15\\. Enter and run**\n",
    "```Python\n",
    "'I\\'m not bad.'\n",
    "```"
   ]
  },
  {
   "cell_type": "code",
   "execution_count": null,
   "metadata": {},
   "outputs": [],
   "source": []
  },
  {
   "cell_type": "markdown",
   "metadata": {},
   "source": [
    "It works! Placing a backslash (\\\\) prior to the ' (apostrophe) tells Python to treat ' (apostrophe) as text, not as a special character prefacing a string. Another way to do the same thing is to enter: \"I'm well.\" Here you mix double and single quotes to make clear which is an apostrophe. \n",
    "\n",
    "**16\\. Try it by entering:**\n",
    "```Python\n",
    "\"I'm well.\"\n",
    "```"
   ]
  },
  {
   "cell_type": "code",
   "execution_count": null,
   "metadata": {},
   "outputs": [],
   "source": []
  },
  {
   "cell_type": "markdown",
   "metadata": {},
   "source": [
    "You will likely find uses for both methods of quoting and escaping strings.\n",
    "\n",
    "* String concatenation\n",
    "\n",
    "It is possible to concatenate two strings. You simply use the + operator--the string concatenate operator. \n",
    "\n",
    "**17\\.Enter:**\n",
    "```Python\n",
    "'My name is ' + 'Horacio.'\n",
    "```"
   ]
  },
  {
   "cell_type": "code",
   "execution_count": null,
   "metadata": {},
   "outputs": [],
   "source": []
  },
  {
   "cell_type": "markdown",
   "metadata": {},
   "source": [
    "This seems like a good time to teach about the print() method. print() is a core Python method that prints text to the screen. \n",
    "\n",
    "**18\\. Enter:**\n",
    "```Python\n",
    "print('My name is ' + 'Horacio')\n",
    "```"
   ]
  },
  {
   "cell_type": "code",
   "execution_count": null,
   "metadata": {},
   "outputs": [],
   "source": []
  },
  {
   "cell_type": "markdown",
   "metadata": {},
   "source": [
    "Notice that using the print function removes the quotes printed to the screen. Sure, you are right...not a big deal. Let's print something more complicated (and introduce integer-to-string conversions--and vice-versa). \n",
    "\n",
    "**19\\. First, create a variable 'age' and assign it a value of 40.**"
   ]
  },
  {
   "cell_type": "code",
   "execution_count": null,
   "metadata": {},
   "outputs": [],
   "source": []
  },
  {
   "cell_type": "markdown",
   "metadata": {},
   "source": [
    "**20\\. Now enter:**\n",
    "\n",
    "```Python\n",
    "print(age)\n",
    "```"
   ]
  },
  {
   "cell_type": "code",
   "execution_count": null,
   "metadata": {},
   "outputs": [],
   "source": []
  },
  {
   "cell_type": "markdown",
   "metadata": {},
   "source": [
    "That works--you can print numbers, too. \n",
    "\n",
    "**21\\. So...enter:**\n",
    "```Python\n",
    "print('My name is ' + 'Horacio and I am ' + age + '.')\n",
    "```"
   ]
  },
  {
   "cell_type": "code",
   "execution_count": null,
   "metadata": {},
   "outputs": [],
   "source": []
  },
  {
   "cell_type": "markdown",
   "metadata": {},
   "source": [
    "Uh oh! What does the error say? It says: 'TypeError: must be str, not int' That is, you cannot concatenate an integer to a string. You need to convert the integer to a string in order to concatenate it with a string and print it. \n",
    "\n",
    "**22\\. So...enter:**\n",
    "```Python\n",
    "print('My name is ' + 'Horacio and I am ' + str(age) + '.')\n",
    "```"
   ]
  },
  {
   "cell_type": "code",
   "execution_count": null,
   "metadata": {},
   "outputs": [],
   "source": []
  },
  {
   "cell_type": "markdown",
   "metadata": {},
   "source": [
    "Much better. str() is a core Python method that converts a number to a string. \n",
    "\n",
    "**23\\. Now create a variable named age2 and assign it the _string_ value of '45'.**\n",
    "\n",
    "```Python\n",
    "age2 = '45'\n",
    "```"
   ]
  },
  {
   "cell_type": "code",
   "execution_count": null,
   "metadata": {},
   "outputs": [],
   "source": []
  },
  {
   "cell_type": "markdown",
   "metadata": {},
   "source": [
    "**24\\. Write a print statment that outputs: 'In 5 years from now I will be 50 years old.' by entering:**\n",
    "\n",
    "```Python\n",
    "print(\"In 5 years from now I will be \" + str(int(age2) + 5) + \" years old.\")\n",
    "```"
   ]
  },
  {
   "cell_type": "code",
   "execution_count": null,
   "metadata": {},
   "outputs": [],
   "source": []
  },
  {
   "cell_type": "markdown",
   "metadata": {},
   "source": [
    "Enter below an explanation of what this print stament does."
   ]
  },
  {
   "cell_type": "code",
   "execution_count": null,
   "metadata": {},
   "outputs": [],
   "source": []
  },
  {
   "cell_type": "markdown",
   "metadata": {},
   "source": [
    "(This notebook uses Python 3.6 and the print method requires parenthesis. For a beginning Python programmer, the print statment is probably the most noticable difference between Python 3 and Python 2. Python 2 does not use parenthesis. Instead of _print(\"Hello\")_ you would write _print \"Hello\"_ in Python 2.) "
   ]
  },
  {
   "cell_type": "markdown",
   "metadata": {},
   "source": [
    "**Strings are about to get more interesting...**"
   ]
  },
  {
   "cell_type": "markdown",
   "metadata": {},
   "source": [
    "You can index a string. That is, you can access the individual elements (letters) of a string by index position. \n",
    "\n",
    "**25\\. Assign the string** ```'Satellite'``` **to the variable** ```name```.\n",
    "\n",
    "```Python\n",
    "name = 'Satellite'\n",
    "```"
   ]
  },
  {
   "cell_type": "code",
   "execution_count": null,
   "metadata": {},
   "outputs": [],
   "source": []
  },
  {
   "cell_type": "markdown",
   "metadata": {},
   "source": [
    "The elements of the string are accessed by index number inside square braces, like ```name[0]```. Most Python indices are 0-based. 0 is the first counting number and so the the 0th letter is the S, the 1st letter is the a, etc.. \n",
    "\n",
    "**26\\. What is the 3rd letter?**"
   ]
  },
  {
   "cell_type": "code",
   "execution_count": null,
   "metadata": {},
   "outputs": [],
   "source": []
  },
  {
   "cell_type": "markdown",
   "metadata": {},
   "source": [
    "You can also access the elements of a string in reverse. The first index in reverse is -1. \n",
    "\n",
    "**27\\. Enter:**\n",
    "```Python\n",
    "name[-1]\n",
    "```"
   ]
  },
  {
   "cell_type": "code",
   "execution_count": null,
   "metadata": {},
   "outputs": [],
   "source": []
  },
  {
   "cell_type": "markdown",
   "metadata": {},
   "source": [
    "_Slicing_ is accessing a string by a range of indices. You access the first 3 letters of the variable name like this: ```name[0:3]```. The first number is the beginning index value. The second number is the ending index value. You can read this as: access the 0th element up-to-but-not-including the 3rd element. In other words, this will return the 0th, 1st and 2nd elements of the string. Your first index value need not be 0--it can be any valid index value. \n",
    "\n",
    "**28\\. Use positive indices to return the word 'lite'.**"
   ]
  },
  {
   "cell_type": "code",
   "execution_count": null,
   "metadata": {},
   "outputs": [],
   "source": []
  },
  {
   "cell_type": "markdown",
   "metadata": {},
   "source": [
    "You can also return all string elements from the 3rd to the end of the string with: ```name[3:]```. If you leave the value before the **:** blank, the beginning value is equivalent to the 0th element. If you leave the value after the **:** blank, the end value is equivalent to the the last element. \n",
    "\n",
    "**29\\. Can you return the word** ```'lite'``` **using negative indices a blank index value?**"
   ]
  },
  {
   "cell_type": "code",
   "execution_count": null,
   "metadata": {},
   "outputs": [],
   "source": []
  },
  {
   "cell_type": "markdown",
   "metadata": {},
   "source": [
    "**30\\. Can you return the word** ```'Sat'``` **using positive, and blank, indices?**"
   ]
  },
  {
   "cell_type": "code",
   "execution_count": null,
   "metadata": {},
   "outputs": [],
   "source": []
  },
  {
   "cell_type": "markdown",
   "metadata": {},
   "source": [
    "**31\\. How about the word** 'sat' **using positive, and blank, indices?** (Use the ```.lower()``` method at the end of the closing square brace. There is also an ```.upper()```.)"
   ]
  },
  {
   "cell_type": "code",
   "execution_count": null,
   "metadata": {},
   "outputs": [],
   "source": []
  },
  {
   "cell_type": "markdown",
   "metadata": {},
   "source": [
    "What would happen if you tried to access the 10th element of the variable name? You would get an 'IndexError: string index out of range'. There is no 10th indexed value! You need to be careful about using correct index values. \n",
    "\n",
    "**32\\. Try it.**\n",
    "```Python\n",
    "name[10]\n",
    "```"
   ]
  },
  {
   "cell_type": "code",
   "execution_count": null,
   "metadata": {},
   "outputs": [],
   "source": []
  },
  {
   "cell_type": "markdown",
   "metadata": {},
   "source": [
    "* Time for another method...a string one"
   ]
  },
  {
   "cell_type": "markdown",
   "metadata": {},
   "source": [
    "The len() method will return the length of a string. \n",
    "\n",
    "**33\\. Try:**\n",
    "```Python\n",
    "len(name).\n",
    "```"
   ]
  },
  {
   "cell_type": "code",
   "execution_count": null,
   "metadata": {},
   "outputs": [],
   "source": []
  },
  {
   "cell_type": "markdown",
   "metadata": {},
   "source": [
    "In fact, there are lots of methods that work on strings. If you want a little self study, take a look at the official [Python documentation](https://docs.python.org/3/library/stdtypes.html?highlight=lower#text-sequence-type-str). There is also the [Python tutorial](https://docs.python.org/3/tutorial/index.html) from which most of this content is swiped. \n",
    "\n",
    "That's it for for _Learning Python 1_. Next time we will cover \n",
    "* lists,\n",
    "* dictionaries, and\n",
    "* arrays\n",
    "\n",
    "as well as \n",
    "\n",
    "* conditional statements, and\n",
    "* flow control. \n",
    "\n",
    "See you then!"
   ]
  },
  {
   "cell_type": "markdown",
   "metadata": {},
   "source": [
    "# The end!"
   ]
  },
  {
   "cell_type": "markdown",
   "metadata": {},
   "source": [
    "This is an inline equation $e^{i\\pi} + 1 = 0$. The next one is a stand-alone equation."
   ]
  },
  {
   "cell_type": "markdown",
   "metadata": {},
   "source": [
    "$$NDVI = \\frac{\\rho_{nir} - \\rho_{red}}{\\rho_{nir} + \\rho_{red}}$$"
   ]
  }
 ],
 "metadata": {
  "kernelspec": {
   "display_name": "Python 3",
   "language": "python",
   "name": "python3"
  },
  "language_info": {
   "codemirror_mode": {
    "name": "ipython",
    "version": 3
   },
   "file_extension": ".py",
   "mimetype": "text/x-python",
   "name": "python",
   "nbconvert_exporter": "python",
   "pygments_lexer": "ipython3",
   "version": "3.7.3"
  }
 },
 "nbformat": 4,
 "nbformat_minor": 4
}
